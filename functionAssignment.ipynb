{
 "cells": [
  {
   "cell_type": "markdown",
   "id": "5162d57c-0351-407e-82da-cbfce311c24c",
   "metadata": {},
   "source": [
    "Q1. Which keyword is used to create a function? Create a function to return a list of odd numbers in the\n",
    "range of 1 to 25.\n"
   ]
  },
  {
   "cell_type": "raw",
   "id": "9ab20022-5458-4656-8a94-e16cfa416e3a",
   "metadata": {},
   "source": [
    "Ans) \n",
    "\n",
    "def is the keyword used to create a function, the syntax is def function_name:\n",
    "\n",
    "example - def evenNo:\n",
    "\n"
   ]
  },
  {
   "cell_type": "code",
   "execution_count": 1,
   "id": "680e3c62-c4c6-423d-a16f-74e8c971aa35",
   "metadata": {},
   "outputs": [],
   "source": [
    "l = range(25)\n",
    "def oddNumber(a):\n",
    "    l1=[]\n",
    "    for i in a:\n",
    "        if i%2 !=0:\n",
    "            l1.append(i)\n",
    "    return l1      "
   ]
  },
  {
   "cell_type": "code",
   "execution_count": 2,
   "id": "3b7139be-6319-494a-8790-ac0cf4574f2c",
   "metadata": {},
   "outputs": [
    {
     "data": {
      "text/plain": [
       "[1, 3, 5, 7, 9, 11, 13, 15, 17, 19, 21, 23]"
      ]
     },
     "execution_count": 2,
     "metadata": {},
     "output_type": "execute_result"
    }
   ],
   "source": [
    "oddNumber(l)"
   ]
  },
  {
   "cell_type": "markdown",
   "id": "29272547-8b92-41d9-a280-91d3ad9b4c19",
   "metadata": {},
   "source": [
    "Q2. Why *args and **kwargs is used in some functions? Create a function each for *args and **kwargs to\n",
    "demonstrate their use."
   ]
  },
  {
   "cell_type": "raw",
   "id": "013bdacd-a866-4e1e-a42b-8c4a596fb817",
   "metadata": {},
   "source": [
    "*args - is used to take dynamic parameter,  when a function is defined then to take a variable parameter *args is used"
   ]
  },
  {
   "cell_type": "code",
   "execution_count": 3,
   "id": "a5541f98-88fe-4f2f-a37d-8b2ec92dff31",
   "metadata": {},
   "outputs": [],
   "source": [
    "def test(*args):\n",
    "    return args"
   ]
  },
  {
   "cell_type": "code",
   "execution_count": 4,
   "id": "d084fcce-8faf-4571-bd64-0e1c7d4eb4a2",
   "metadata": {},
   "outputs": [
    {
     "data": {
      "text/plain": [
       "([1, 2, 3, 4], 4, 5, 'shivam')"
      ]
     },
     "execution_count": 4,
     "metadata": {},
     "output_type": "execute_result"
    }
   ],
   "source": [
    "test([1,2,3,4],4,5,\"shivam\")"
   ]
  },
  {
   "cell_type": "raw",
   "id": "d3a41596-b535-424b-b833-c744bd0589d2",
   "metadata": {},
   "source": [
    "**kwargs - It is used to take the paramter in a function in the form of dictionary\n"
   ]
  },
  {
   "cell_type": "code",
   "execution_count": 5,
   "id": "326dc98b-a66c-47e8-8975-b84db69055bd",
   "metadata": {},
   "outputs": [],
   "source": [
    "def test1(**kwargs):\n",
    "    for i in kwargs.keys():\n",
    "        if type(kwargs[i])==list:\n",
    "            return i , kwargs[i]"
   ]
  },
  {
   "cell_type": "code",
   "execution_count": 6,
   "id": "e4384455-3412-4c8b-8c03-a8534a377bdf",
   "metadata": {},
   "outputs": [
    {
     "data": {
      "text/plain": [
       "('c', [1, 2, 3, 4])"
      ]
     },
     "execution_count": 6,
     "metadata": {},
     "output_type": "execute_result"
    }
   ],
   "source": [
    "test1(a= 1, b= 2, c = [1,2,3,4])"
   ]
  },
  {
   "cell_type": "markdown",
   "id": "aab2ae6e-a41c-4590-bd7d-3eb25098d6b7",
   "metadata": {},
   "source": [
    "Q3. What is an iterator in python? Name the method used to initialise the iterator object and the method\n",
    "used for iteration. Use these methods to print the first five elements of the given list [2, 4, 6, 8, 10, 12, 14, 16,\n",
    "18, 20]."
   ]
  },
  {
   "cell_type": "raw",
   "id": "ef503e6e-6427-4c98-ad1e-90fbdac7f1f3",
   "metadata": {},
   "source": [
    "Iterators are methods that iterate collections like lists, tuples, etc. Using an iterator method, we can loop through an object and return its elements."
   ]
  },
  {
   "cell_type": "raw",
   "id": "99ece1c6-951e-48f0-8058-1037056b135d",
   "metadata": {},
   "source": [
    "we created an iterator from the list using the iter() method. And then used the next() function to retrieve the elements of the iterator in sequential order."
   ]
  },
  {
   "cell_type": "code",
   "execution_count": 16,
   "id": "3e1e1bd6-dd32-4860-86dc-403a6d2098d0",
   "metadata": {
    "tags": []
   },
   "outputs": [
    {
     "name": "stdout",
     "output_type": "stream",
     "text": [
      "2\n",
      "4\n",
      "6\n",
      "8\n",
      "10\n"
     ]
    }
   ],
   "source": [
    "lst = [2,4,6,8,10,12,14,16,18,20]\n",
    "\n",
    "iterator = iter(lst)\n",
    "\n",
    "for i in range(5):\n",
    "        print(next(iterator))"
   ]
  },
  {
   "cell_type": "markdown",
   "id": "c85983dc-049a-4567-a02b-862c6efb9110",
   "metadata": {},
   "source": [
    "Q4. What is a generator function in python? Why yield keyword is used? Give an example of a generator\n",
    "function."
   ]
  },
  {
   "cell_type": "raw",
   "id": "e458aca1-ba28-43e0-a6d5-1c624dd55f18",
   "metadata": {},
   "source": [
    "A generator function is define as a normal function with def keyword. generator function contain yeild keyword rather than return keyword. If the body of a def contains yield, the function automatically becomes a Python generator function.\n",
    "The yield keyword will turn any expression that is given with it into a generator object and return it to the caller. Therefore, you must iterate over the generator object if you wish to obtain the values stored there"
   ]
  },
  {
   "cell_type": "code",
   "execution_count": 9,
   "id": "10714e3d-1ce2-40cd-9f92-03bce77ab913",
   "metadata": {},
   "outputs": [],
   "source": [
    "def gen(n):\n",
    "    a,b = 0,1\n",
    "    for i in range(n):\n",
    "        yield a\n",
    "        a,b = b,a+b"
   ]
  },
  {
   "cell_type": "code",
   "execution_count": 10,
   "id": "b8743bd6-0a4f-4e8c-8eaf-9123978a3948",
   "metadata": {},
   "outputs": [
    {
     "name": "stdout",
     "output_type": "stream",
     "text": [
      "0 1 1 2 3 5 8 13 21 34 "
     ]
    }
   ],
   "source": [
    "for i in gen(10):\n",
    "    print(i, end = \" \")"
   ]
  },
  {
   "cell_type": "markdown",
   "id": "d4b155f3-6c67-435a-ac83-0e3b7168119d",
   "metadata": {},
   "source": [
    "Q5. Create a generator function for prime numbers less than 1000. Use the next() method to print the\n",
    "first 20 prime numbers."
   ]
  },
  {
   "cell_type": "code",
   "execution_count": 5,
   "id": "5bddf9be-fb84-49e2-a46b-704839152004",
   "metadata": {},
   "outputs": [],
   "source": [
    "def gen1():\n",
    "    yield 2\n",
    "    prime_list= [2]\n",
    "    for i in range(3,1000):\n",
    "            is_prime = True\n",
    "            for prime in prime_list:\n",
    "                if i%prime==0:\n",
    "                    is_prime = False\n",
    "                    break\n",
    "                if is_prime:\n",
    "                    prime_list.append(i)\n",
    "                    yield i\n",
    "                    break\n",
    "                    "
   ]
  },
  {
   "cell_type": "code",
   "execution_count": 7,
   "id": "6c758c41-3ad0-4758-bc38-a0bf174c6d1b",
   "metadata": {},
   "outputs": [
    {
     "name": "stdout",
     "output_type": "stream",
     "text": [
      "2 3 5 7 9 11 13 15 17 19 21 23 25 27 29 31 33 35 37 39 "
     ]
    }
   ],
   "source": [
    "prime_list1 = gen1() \n",
    "for i in range(20):\n",
    "    print(next(prime_list1), end = \" \")"
   ]
  },
  {
   "cell_type": "markdown",
   "id": "7c1beef8-0614-4677-8ef3-f992a89d94c1",
   "metadata": {},
   "source": [
    "Q6. Write a python program to print the first 10 Fibonacci numbers using a while loop.\n",
    "\n"
   ]
  },
  {
   "cell_type": "code",
   "execution_count": 12,
   "id": "b232cd38-09f9-41b5-9408-700714d75a9c",
   "metadata": {},
   "outputs": [],
   "source": [
    "def fib(n):\n",
    "    a,b =0,1\n",
    "    count = 1\n",
    "    while count<=10:\n",
    "        yield a\n",
    "        a,b  = b,a+b\n",
    "        count+=1\n",
    "        "
   ]
  },
  {
   "cell_type": "code",
   "execution_count": 13,
   "id": "57d2af74-323e-44cf-8f5d-41c744371e4d",
   "metadata": {},
   "outputs": [
    {
     "name": "stdout",
     "output_type": "stream",
     "text": [
      "0 1 1 2 3 5 8 13 21 34 "
     ]
    }
   ],
   "source": [
    "for i in fib(10):\n",
    "    print(i, end = \" \")"
   ]
  },
  {
   "cell_type": "markdown",
   "id": "5dbc67ee-aed0-4927-99ad-513255b08986",
   "metadata": {},
   "source": [
    "Q7. Write a List Comprehension to iterate through the given string: ‘pwskills’. Expected output: ['p', 'w', 's', 'k', 'i', 'l', 'l', 's']"
   ]
  },
  {
   "cell_type": "code",
   "execution_count": 14,
   "id": "3b4820e2-d183-4e6e-bacf-5aa2ab29d12e",
   "metadata": {},
   "outputs": [
    {
     "data": {
      "text/plain": [
       "['p', 'w', 's', 'k', 'i', 'l', 'l', 's']"
      ]
     },
     "execution_count": 14,
     "metadata": {},
     "output_type": "execute_result"
    }
   ],
   "source": [
    "str1 = \"pwskills\"\n",
    "str1_list = []\n",
    "for i in str1:\n",
    "    str1_list.append(i)\n",
    "\n",
    "str1_list"
   ]
  },
  {
   "cell_type": "markdown",
   "id": "8acf394f-cc21-4dee-97f0-5ae1911460ed",
   "metadata": {},
   "source": [
    "Q8. Write a python program to check whether a given number is Palindrome or not using a while loop.\n"
   ]
  },
  {
   "cell_type": "code",
   "execution_count": 15,
   "id": "6e53e0ec-e332-439c-be04-2839bc222587",
   "metadata": {},
   "outputs": [
    {
     "name": "stdin",
     "output_type": "stream",
     "text": [
      "Enter number:  121\n"
     ]
    },
    {
     "name": "stdout",
     "output_type": "stream",
     "text": [
      "Number is plaindrome\n",
      "121\n"
     ]
    }
   ],
   "source": [
    "n = int(input(\"Enter number: \"))\n",
    "\n",
    "def reverse(n):\n",
    "    rev = 0    \n",
    "    while n !=0:\n",
    "        remainder = n%10\n",
    "        rev = rev*10 + remainder\n",
    "        n = n // 10;\n",
    "    return rev\n",
    "\n",
    "\n",
    "def isplaindrome(n):\n",
    "    if n == reverse(n):\n",
    "        return True\n",
    "    return False\n",
    "\n",
    "if isplaindrome(n) == True:\n",
    "    print(\"Number is plaindrome\")\n",
    "    print(reverse(n))\n",
    "else:\n",
    "    print(reverse(n))\n",
    "    print(\"Number is not plaindrome\")\n",
    "\n"
   ]
  },
  {
   "cell_type": "code",
   "execution_count": 11,
   "id": "92d3409e-ef9b-4b78-8ee1-14419e0fce66",
   "metadata": {},
   "outputs": [
    {
     "name": "stdout",
     "output_type": "stream",
     "text": [
      "321\n"
     ]
    }
   ],
   "source": [
    "def reverse(n):\n",
    "    rev = 0    \n",
    "    while n !=0:\n",
    "        remainder = n%10\n",
    "        rev = rev*10 + remainder\n",
    "        n = n // 10;\n",
    "    return rev\n",
    "\n",
    "print(reverse(123))"
   ]
  },
  {
   "cell_type": "code",
   "execution_count": 18,
   "id": "f2b49703-bf9c-43d9-a2a8-43ef3ef7ca80",
   "metadata": {},
   "outputs": [
    {
     "name": "stdout",
     "output_type": "stream",
     "text": [
      "321\n"
     ]
    }
   ],
   "source": [
    "# 2nd Another reverse number  method\n",
    "def reverse(n):\n",
    "    if n < 10:\n",
    "        return n\n",
    "    \n",
    "    remainder = n % 10\n",
    "    remaining_digits = n // 10    \n",
    "    reversed_remaining = reverse(remaining_digits)\n",
    "    reversed_n = int(str(remainder) + str(reversed_remaining))\n",
    "    \n",
    "    return reversed_n\n",
    "\n",
    "reversed_number = reverse(123)\n",
    "print(reversed_number)"
   ]
  },
  {
   "cell_type": "markdown",
   "id": "2ec50f80-a2ee-4498-94fe-8faaf71fbfdf",
   "metadata": {},
   "source": [
    "Q9. Write a code to print odd numbers from 1 to 100 using list comprehension.\n"
   ]
  },
  {
   "cell_type": "code",
   "execution_count": 21,
   "id": "db580a0b-1bef-41d0-b8f8-4415cd74ea07",
   "metadata": {},
   "outputs": [
    {
     "data": {
      "text/plain": [
       "[1,\n",
       " 3,\n",
       " 5,\n",
       " 7,\n",
       " 9,\n",
       " 11,\n",
       " 13,\n",
       " 15,\n",
       " 17,\n",
       " 19,\n",
       " 21,\n",
       " 23,\n",
       " 25,\n",
       " 27,\n",
       " 29,\n",
       " 31,\n",
       " 33,\n",
       " 35,\n",
       " 37,\n",
       " 39,\n",
       " 41,\n",
       " 43,\n",
       " 45,\n",
       " 47,\n",
       " 49,\n",
       " 51,\n",
       " 53,\n",
       " 55,\n",
       " 57,\n",
       " 59,\n",
       " 61,\n",
       " 63,\n",
       " 65,\n",
       " 67,\n",
       " 69,\n",
       " 71,\n",
       " 73,\n",
       " 75,\n",
       " 77,\n",
       " 79,\n",
       " 81,\n",
       " 83,\n",
       " 85,\n",
       " 87,\n",
       " 89,\n",
       " 91,\n",
       " 93,\n",
       " 95,\n",
       " 97,\n",
       " 99]"
      ]
     },
     "execution_count": 21,
     "metadata": {},
     "output_type": "execute_result"
    }
   ],
   "source": [
    "[n for n in range(100) if n%2!=0]"
   ]
  },
  {
   "cell_type": "code",
   "execution_count": null,
   "id": "0db62bb4-7d87-4351-8292-6b4065347b2b",
   "metadata": {},
   "outputs": [],
   "source": []
  }
 ],
 "metadata": {
  "kernelspec": {
   "display_name": "Python 3 (ipykernel)",
   "language": "python",
   "name": "python3"
  },
  "language_info": {
   "codemirror_mode": {
    "name": "ipython",
    "version": 3
   },
   "file_extension": ".py",
   "mimetype": "text/x-python",
   "name": "python",
   "nbconvert_exporter": "python",
   "pygments_lexer": "ipython3",
   "version": "3.10.8"
  }
 },
 "nbformat": 4,
 "nbformat_minor": 5
}
