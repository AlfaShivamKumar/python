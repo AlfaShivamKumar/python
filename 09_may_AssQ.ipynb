{
 "cells": [
  {
   "cell_type": "markdown",
   "id": "a82ca478-e142-41c4-b17c-1071266878ca",
   "metadata": {},
   "source": [
    "Q1) Create one variable containing following type of data:"
   ]
  },
  {
   "cell_type": "code",
   "execution_count": 1,
   "id": "8af6d197-1a08-4868-a016-2a630c9a061b",
   "metadata": {},
   "outputs": [
    {
     "name": "stdout",
     "output_type": "stream",
     "text": [
      "shivam\n",
      "[1, 2, 'yo', 3.0, 1]\n",
      "3.0\n",
      "[1, 2, 3]\n"
     ]
    }
   ],
   "source": [
    "s  = \"shivam\"\n",
    "print(s)\n",
    "\n",
    "l = [1,2, \"yo\", 3.0, 1]\n",
    "print(l)\n",
    "\n",
    "f = 3.0\n",
    "print(f)\n",
    "\n",
    "t = [1,2,3]\n",
    "print(t)"
   ]
  },
  {
   "cell_type": "markdown",
   "id": "73fb4057-0b1a-4561-b481-bac84fe00610",
   "metadata": {},
   "source": [
    "Q2) Given are some following variables containing data:"
   ]
  },
  {
   "cell_type": "markdown",
   "id": "e62c143c-aba4-4e7e-93ed-f5549cab13dc",
   "metadata": {},
   "source": [
    "var1= ''   #string\n",
    "type(var1)\n",
    "\n",
    "var2 = '[DS, ML, python]'   #string\n",
    "type(var2)\n",
    "\n",
    "var3 = ['DS', 'ML', 'python' ]  #list\n",
    "type(var3)\n",
    "\n",
    "var4 = 1    #int\n",
    "type(var4)\n"
   ]
  },
  {
   "cell_type": "markdown",
   "id": "5aeb1595-713d-4fae-afaf-8e86e2be7789",
   "metadata": {},
   "source": [
    "Q3. Explain the use of the following operators using an example:"
   ]
  },
  {
   "cell_type": "code",
   "execution_count": 2,
   "id": "542f043f-4ff9-460d-b2b2-3a93ec23e3b7",
   "metadata": {},
   "outputs": [
    {
     "name": "stdout",
     "output_type": "stream",
     "text": [
      "3.3333333333333335\n",
      "1\n",
      "3\n",
      "1000\n"
     ]
    }
   ],
   "source": [
    "a  = 10\n",
    "b  = 3\n",
    "\n",
    "c = a / b   #  / will return quotient \n",
    "print(c)\n",
    "\n",
    "d = a%b     # % will return remainder\n",
    "print(d)\n",
    "\n",
    "e = a//b    #  // will return floor value of quotient \n",
    "print(e)\n",
    "\n",
    "f = a**b    #  ** means raise to/power, here 10^3\n",
    "print(f)"
   ]
  },
  {
   "cell_type": "markdown",
   "id": "2e87fe9f-6a4c-4f3d-95ee-e2cce7efe55a",
   "metadata": {},
   "source": [
    "Q4. Create a list of length 10 of your choice containing multiple types of data. Using for loop print the element and its data type."
   ]
  },
  {
   "cell_type": "code",
   "execution_count": 3,
   "id": "6e745cd9-f95f-4b39-9ad3-9c4cce220161",
   "metadata": {},
   "outputs": [
    {
     "name": "stdout",
     "output_type": "stream",
     "text": [
      "Element is 0:1     (type: int)\n",
      "Element is 1:2     (type: int)\n",
      "Element is 2:sh     (type: str)\n",
      "Element is 3:amit     (type: str)\n",
      "Element is 4:abhi     (type: str)\n",
      "Element is 5:[1, 2, 'sumit']     (type: list)\n",
      "Element is 6:True     (type: bool)\n",
      "Element is 7:5.0     (type: float)\n",
      "Element is 8:False     (type: bool)\n",
      "Element is 9:10     (type: int)\n"
     ]
    }
   ],
   "source": [
    "l = [1,2, 'sh', 'amit', 'abhi',[1,2,\"sumit\"], True, 5.0, False, 10]\n",
    "\n",
    "for index, element in enumerate(l):\n",
    "    print( f\"Element is {index}:{element}     (type: {type(element).__name__})\")    \n"
   ]
  },
  {
   "cell_type": "markdown",
   "id": "15f373b8-256a-4bba-abda-ddf2bab51915",
   "metadata": {},
   "source": [
    "Q5. Using a while loop, verify if the number A is purely divisible by number B and if so then how many times it can be divisible."
   ]
  },
  {
   "cell_type": "code",
   "execution_count": 5,
   "id": "61ff0990-261d-45c4-bdfb-e6983c36dbbe",
   "metadata": {},
   "outputs": [
    {
     "name": "stdout",
     "output_type": "stream",
     "text": [
      "2\n"
     ]
    }
   ],
   "source": [
    "A = 100\n",
    "B = 5\n",
    "\n",
    "count = 0\n",
    "while A >= B:\n",
    "    if A % B == 0:\n",
    "        count += 1\n",
    "    A = A // B\n",
    "\n",
    "print(count)"
   ]
  },
  {
   "cell_type": "markdown",
   "id": "8fb65ba1-efb2-4468-9b16-36b6750cabc7",
   "metadata": {},
   "source": [
    "Q6. Create a list containing 25 int type data. Using for loop and if-else condition print if the element is divisible by 3 or not"
   ]
  },
  {
   "cell_type": "code",
   "execution_count": 16,
   "id": "c59d2d13-32fe-4ec6-9e78-f6410aeea3a1",
   "metadata": {},
   "outputs": [
    {
     "name": "stdout",
     "output_type": "stream",
     "text": [
      "0\n",
      "3\n",
      "6\n",
      "9\n",
      "12\n",
      "15\n",
      "18\n",
      "21\n",
      "24\n"
     ]
    }
   ],
   "source": [
    "l = list(range(26))\n",
    "\n",
    "for i in l:\n",
    "    if i%3 == 0:\n",
    "        print(i)"
   ]
  },
  {
   "cell_type": "markdown",
   "id": "290793d9-8b5d-4a8f-ad78-6940e5c17e99",
   "metadata": {},
   "source": [
    "Q7. What do you understand about mutable and immutable data types? Give examples for both showing this property"
   ]
  },
  {
   "cell_type": "raw",
   "id": "e7c524c3-ee16-436f-be03-fe4a5ac8f8fe",
   "metadata": {},
   "source": [
    "Mutable datatypes are the data whose element can be changed, deleted, altered i.e. elements can be modified\n",
    "eg - list, set, dictionary\n",
    "\n",
    "\n",
    "Immutable datatype element can't be  changed, deleted, altered i.e. can't be modified.  \n",
    "eg - string, int, float, tuple\n"
   ]
  },
  {
   "cell_type": "code",
   "execution_count": 23,
   "id": "51eae8e0-478e-4e31-8b1d-e360f8a47c4d",
   "metadata": {},
   "outputs": [
    {
     "ename": "TypeError",
     "evalue": "'str' object does not support item assignment",
     "output_type": "error",
     "traceback": [
      "\u001b[0;31m---------------------------------------------------------------------------\u001b[0m",
      "\u001b[0;31mTypeError\u001b[0m                                 Traceback (most recent call last)",
      "Cell \u001b[0;32mIn[23], line 5\u001b[0m\n\u001b[1;32m      2\u001b[0m s \u001b[38;5;241m=\u001b[39m \u001b[38;5;124m\"\u001b[39m\u001b[38;5;124mshivam\u001b[39m\u001b[38;5;124m\"\u001b[39m\n\u001b[1;32m      3\u001b[0m \u001b[38;5;66;03m# s[0]    s\u001b[39;00m\n\u001b[0;32m----> 5\u001b[0m \u001b[43ms\u001b[49m\u001b[43m[\u001b[49m\u001b[38;5;241;43m1\u001b[39;49m\u001b[43m]\u001b[49m \u001b[38;5;241m=\u001b[39m \u001b[38;5;124m'\u001b[39m\u001b[38;5;124ma\u001b[39m\u001b[38;5;124m'\u001b[39m\n",
      "\u001b[0;31mTypeError\u001b[0m: 'str' object does not support item assignment"
     ]
    }
   ],
   "source": [
    "# immutable datatype\n",
    "s = \"shivam\"\n",
    "# s[0]    s\n",
    "\n",
    "s[1] = 'a'"
   ]
  },
  {
   "cell_type": "code",
   "execution_count": 24,
   "id": "7248fa59-7c49-4c1a-aa11-8e6257389f83",
   "metadata": {},
   "outputs": [
    {
     "data": {
      "text/plain": [
       "[1, 4, 3, 'Shiav', 12]"
      ]
     },
     "execution_count": 24,
     "metadata": {},
     "output_type": "execute_result"
    }
   ],
   "source": [
    "#mutable datatype\n",
    "l = [1,2,3, 'Shiav', 12]\n",
    "l[1] = 4\n",
    "l"
   ]
  },
  {
   "cell_type": "code",
   "execution_count": null,
   "id": "ec8aa106-2e35-41b1-8d12-c73659e52216",
   "metadata": {},
   "outputs": [],
   "source": []
  }
 ],
 "metadata": {
  "kernelspec": {
   "display_name": "Python 3 (ipykernel)",
   "language": "python",
   "name": "python3"
  },
  "language_info": {
   "codemirror_mode": {
    "name": "ipython",
    "version": 3
   },
   "file_extension": ".py",
   "mimetype": "text/x-python",
   "name": "python",
   "nbconvert_exporter": "python",
   "pygments_lexer": "ipython3",
   "version": "3.10.8"
  }
 },
 "nbformat": 4,
 "nbformat_minor": 5
}
