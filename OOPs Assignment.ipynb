{
 "cells": [
  {
   "cell_type": "markdown",
   "id": "09c16599",
   "metadata": {},
   "source": [
    "# OOPs Assignment"
   ]
  },
  {
   "cell_type": "markdown",
   "id": "3b140b26",
   "metadata": {},
   "source": [
    "Q1, Create a vehicle class with an init method having instance variables as name_of_vehicle, max_speed\n",
    "and average_of_vehicle."
   ]
  },
  {
   "cell_type": "code",
   "execution_count": 2,
   "id": "a762950b",
   "metadata": {},
   "outputs": [],
   "source": [
    "class vehicle:\n",
    "    def __init__(self, name_of_vehicle, max_speed, average_of_vehicle):\n",
    "        self.name_of_vehicle = name_of_vehicle\n",
    "        self.max_speed = max_speed\n",
    "        self.average_of_vehicle =average_of_vehicle"
   ]
  },
  {
   "cell_type": "markdown",
   "id": "43b0025f",
   "metadata": {},
   "source": [
    "Q2. Create a child class car from the vehicle class created in Que 1, which will inherit the vehicle class.\n",
    "Create a method named seating_capacity which takes capacity as an argument and returns the name of\n",
    "the vehicle and its seating capacity."
   ]
  },
  {
   "cell_type": "code",
   "execution_count": 6,
   "id": "cefaffdf",
   "metadata": {},
   "outputs": [],
   "source": [
    "class car(vehicle):\n",
    "    def seating_capacity(self, seating_capacity):\n",
    "        self.seating_capacity = seating_capacity\n",
    "        print(self.name_of_vehicle, self.seating_capacity)\n",
    "        "
   ]
  },
  {
   "cell_type": "code",
   "execution_count": 8,
   "id": "750f178a",
   "metadata": {},
   "outputs": [],
   "source": [
    "car = car(\"Thar\",120,20)"
   ]
  },
  {
   "cell_type": "code",
   "execution_count": 10,
   "id": "89588b04",
   "metadata": {},
   "outputs": [
    {
     "name": "stdout",
     "output_type": "stream",
     "text": [
      "Thar 5\n"
     ]
    }
   ],
   "source": [
    "car.seating_capacity(5)"
   ]
  },
  {
   "cell_type": "markdown",
   "id": "3209d9dc",
   "metadata": {},
   "source": [
    "Q3. What is multiple inheritance? Write a python code to demonstrate multiple inheritance."
   ]
  },
  {
   "cell_type": "raw",
   "id": "f758e0ff",
   "metadata": {},
   "source": [
    "Multiple inheritance :- inheritance of multiple parent to a single child class.\n"
   ]
  },
  {
   "cell_type": "code",
   "execution_count": 11,
   "id": "a00715f7",
   "metadata": {},
   "outputs": [],
   "source": [
    "class vehicle:\n",
    "    def __init__(self, name_of_vehicle, max_speed, average_of_vehicle):\n",
    "        self.name_of_vehicle = name_of_vehicle\n",
    "        self.max_speed = max_speed\n",
    "        self.average_of_vehicle =average_of_vehicle\n",
    "        \n",
    "class car:\n",
    "    def seating_capacity(self, seating_capacity):\n",
    "        self.seating_capacity = seating_capacity\n",
    "        print(self.name_of_vehicle, self.seating_capacity)\n",
    "        \n",
    "class model(vehicle, car):\n",
    "    def details(self, model_name):\n",
    "        self.model_name = model_name\n",
    "        print(self.name_of_vehicle, self.model_name, self.seating_capacity)\n",
    "        "
   ]
  },
  {
   "cell_type": "code",
   "execution_count": 16,
   "id": "135efa28",
   "metadata": {},
   "outputs": [
    {
     "name": "stdout",
     "output_type": "stream",
     "text": [
      "Mahindra 5\n"
     ]
    }
   ],
   "source": [
    "details = model(\"Mahindra\", 120 , 15)\n",
    "details.seating_capacity(5)"
   ]
  },
  {
   "cell_type": "code",
   "execution_count": 17,
   "id": "cfe03a01",
   "metadata": {},
   "outputs": [
    {
     "name": "stdout",
     "output_type": "stream",
     "text": [
      "Mahindra Thar 5\n"
     ]
    }
   ],
   "source": [
    "details.details(\"Thar\")"
   ]
  },
  {
   "cell_type": "markdown",
   "id": "d280233f",
   "metadata": {},
   "source": [
    "Q4. What are getter and setter in python? Create a class and create a getter and a setter method in this\n",
    "class."
   ]
  },
  {
   "cell_type": "raw",
   "id": "3c0c1b1f",
   "metadata": {},
   "source": [
    "Getter and setter is used to manipulate and call the private variable of a class"
   ]
  },
  {
   "cell_type": "code",
   "execution_count": 28,
   "id": "b527a7c9",
   "metadata": {},
   "outputs": [],
   "source": [
    "class student:\n",
    "    def __init__(self, name, roll_no):\n",
    "        self.__name= name\n",
    "        self.roll_no= roll_no\n",
    "        \n",
    "    @property    \n",
    "    def course(self):\n",
    "        print(self.__name)\n",
    "        \n",
    "    @course.setter\n",
    "    def set_name(self, name1):\n",
    "        self.__name = name1\n",
    "        "
   ]
  },
  {
   "cell_type": "code",
   "execution_count": 23,
   "id": "0da25d79",
   "metadata": {},
   "outputs": [],
   "source": [
    "std = student(\"Surya\", 96)"
   ]
  },
  {
   "cell_type": "code",
   "execution_count": 24,
   "id": "ec52255f",
   "metadata": {},
   "outputs": [
    {
     "name": "stdout",
     "output_type": "stream",
     "text": [
      "Surya\n"
     ]
    }
   ],
   "source": [
    "std.course"
   ]
  },
  {
   "cell_type": "code",
   "execution_count": 26,
   "id": "752dad22",
   "metadata": {},
   "outputs": [],
   "source": [
    "std.set_name = \"Shivam\""
   ]
  },
  {
   "cell_type": "code",
   "execution_count": 27,
   "id": "075058e8",
   "metadata": {},
   "outputs": [
    {
     "name": "stdout",
     "output_type": "stream",
     "text": [
      "Shivam\n"
     ]
    }
   ],
   "source": [
    "std.course"
   ]
  },
  {
   "cell_type": "markdown",
   "id": "f736107d",
   "metadata": {},
   "source": [
    "Q5.What is method overriding in python? Write a python code to demonstrate method overriding."
   ]
  },
  {
   "cell_type": "raw",
   "id": "886d7cd7",
   "metadata": {},
   "source": [
    "Method overriding is an ability of any object-oriented programming language that allows a subclass or child class to provide a specific implementation of a method that is already provided by one of its super-classes or parent classes. When a method in a subclass has the same name, same parameters or signature and same return type(or sub-type) as a method in its super-class, then the method in the subclass is said to override the method in the super-class."
   ]
  },
  {
   "cell_type": "code",
   "execution_count": 29,
   "id": "54181491",
   "metadata": {},
   "outputs": [],
   "source": [
    "class Parent(): \n",
    "      \n",
    "    def __init__(self): \n",
    "        self.value = \"Inside Parent\"\n",
    "          \n",
    "    def show(self): \n",
    "        print(self.value) \n",
    "          \n",
    "\n",
    "class Child(Parent): \n",
    "       \n",
    "    def __init__(self): \n",
    "        self.value = \"Inside Child\"\n",
    "           \n",
    "    def show(self): \n",
    "        print(self.value) \n",
    "           "
   ]
  },
  {
   "cell_type": "code",
   "execution_count": 30,
   "id": "ab8aa380",
   "metadata": {},
   "outputs": [],
   "source": [
    "obj1 = Parent() \n",
    "obj2 = Child()  "
   ]
  },
  {
   "cell_type": "code",
   "execution_count": 31,
   "id": "dba2c882",
   "metadata": {},
   "outputs": [
    {
     "name": "stdout",
     "output_type": "stream",
     "text": [
      "Inside Parent\n",
      "Inside Child\n"
     ]
    }
   ],
   "source": [
    "obj1.show() \n",
    "obj2.show()"
   ]
  },
  {
   "cell_type": "code",
   "execution_count": null,
   "id": "e3bccb5c",
   "metadata": {},
   "outputs": [],
   "source": []
  }
 ],
 "metadata": {
  "kernelspec": {
   "display_name": "Python 3 (ipykernel)",
   "language": "python",
   "name": "python3"
  },
  "language_info": {
   "codemirror_mode": {
    "name": "ipython",
    "version": 3
   },
   "file_extension": ".py",
   "mimetype": "text/x-python",
   "name": "python",
   "nbconvert_exporter": "python",
   "pygments_lexer": "ipython3",
   "version": "3.9.13"
  }
 },
 "nbformat": 4,
 "nbformat_minor": 5
}
