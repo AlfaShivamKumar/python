{
 "cells": [
  {
   "cell_type": "markdown",
   "id": "84d9e43f-f5f8-4500-bb82-952ce87e510e",
   "metadata": {},
   "source": [
    "Q1. How do you comment code in Python? What are the different types of comments?\n"
   ]
  },
  {
   "cell_type": "raw",
   "id": "1586958f-99a5-45ea-9524-f6267fae6394",
   "metadata": {},
   "source": [
    "Ans :\n",
    "\n",
    "There are two type of comments\n",
    "1) Single line comment is done with help of \"#\" example #This is a single line comment\n",
    "2) Multi line comment - It is achieved by \"\"\" and closed by same \"\"\"\n",
    "  Example -  \"\"\" This is \n",
    "             a multi line \n",
    "             comment \"\"\""
   ]
  },
  {
   "cell_type": "markdown",
   "id": "f395b7a5-8255-4e05-9173-2e3add075b10",
   "metadata": {},
   "source": [
    "Q2. What are variables in Python? How do you declare and assign values to variables?\n"
   ]
  },
  {
   "cell_type": "raw",
   "id": "c5921d02-6489-443e-8b48-b64701ad3dad",
   "metadata": {},
   "source": [
    "Ans) A symbolic name that is a reference or pointer to an object.\n",
    "     It is a container to store value.\n",
    "     A variable can so multiple type of datatypes and structure data.\n",
    "     Declaration - first variable is decalared and then equal to sign and then value\n",
    "    \n",
    "    \n",
    "    Eg : lst1 = [1,2,3]\n",
    "         name = \"shivam\"\n",
    "         flt = 3.4\n",
    "         integ = 3\n",
    "    "
   ]
  },
  {
   "cell_type": "markdown",
   "id": "120316a4-14bc-44a0-a8b1-9147cbe769b5",
   "metadata": {},
   "source": [
    "Q3. How do you convert one data type to another in Python?\n"
   ]
  },
  {
   "cell_type": "code",
   "execution_count": 1,
   "id": "95d0472f-8f33-4503-b53a-0c81edddd1ab",
   "metadata": {},
   "outputs": [],
   "source": [
    "intg = 3"
   ]
  },
  {
   "cell_type": "code",
   "execution_count": 2,
   "id": "44eda26e-7b73-49f7-a03c-24f78d85af77",
   "metadata": {},
   "outputs": [
    {
     "data": {
      "text/plain": [
       "3.0"
      ]
     },
     "execution_count": 2,
     "metadata": {},
     "output_type": "execute_result"
    }
   ],
   "source": [
    "float(intg)"
   ]
  },
  {
   "cell_type": "code",
   "execution_count": 3,
   "id": "6c8b498b-f010-48ee-b1f2-4eec43a26ee5",
   "metadata": {},
   "outputs": [],
   "source": [
    "lst = [1,2,3]"
   ]
  },
  {
   "cell_type": "code",
   "execution_count": 4,
   "id": "1d6178c1-7330-4972-aa13-2313e586e180",
   "metadata": {},
   "outputs": [
    {
     "data": {
      "text/plain": [
       "(1, 2, 3)"
      ]
     },
     "execution_count": 4,
     "metadata": {},
     "output_type": "execute_result"
    }
   ],
   "source": [
    "tuple(lst)"
   ]
  },
  {
   "cell_type": "raw",
   "id": "9994d284-f5a4-469b-913a-42aee73ced7a",
   "metadata": {},
   "source": [
    "Declaration -  Datatype(variableofdifferentdatatype)\n"
   ]
  },
  {
   "cell_type": "markdown",
   "id": "e2fcd8ff-1e89-4fed-8cfc-9611a56b4580",
   "metadata": {},
   "source": [
    "Q4. How do you write and execute a Python script from the command line?\n"
   ]
  },
  {
   "cell_type": "raw",
   "id": "0ff9dc87-8a8c-4c67-8610-83f82fd5da07",
   "metadata": {},
   "source": [
    "1) install python\n",
    "2) make a folder and python file with extension py with code in it\n",
    "3) open cmd on that loacation and give command python filename.py\n"
   ]
  },
  {
   "cell_type": "markdown",
   "id": "bd2791ff-af30-41b4-8f9e-7029fb46ac84",
   "metadata": {},
   "source": [
    "Q5. Given a list my_list = [1, 2, 3, 4, 5], write the code to slice the list and obtain the sub-list [2, 3].\n"
   ]
  },
  {
   "cell_type": "code",
   "execution_count": 6,
   "id": "f25558fc-1599-48d1-90b9-8b616def4540",
   "metadata": {},
   "outputs": [
    {
     "data": {
      "text/plain": [
       "[2, 3]"
      ]
     },
     "execution_count": 6,
     "metadata": {},
     "output_type": "execute_result"
    }
   ],
   "source": [
    "my_list = [1,2,3,4,5]\n",
    "my_list[1:3]"
   ]
  },
  {
   "cell_type": "markdown",
   "id": "52137da3-7b8a-4ffb-810f-12c293ad145c",
   "metadata": {},
   "source": [
    "Q6. What is a complex number in mathematics, and how is it represented in Python?\n"
   ]
  },
  {
   "cell_type": "raw",
   "id": "f18fd4e7-2e91-4b38-b17b-eef04e4d6c62",
   "metadata": {},
   "source": [
    "Complex number is a number having a real number then operator then imaginary number\n",
    "eg: 1+3i , 5 + 4i"
   ]
  },
  {
   "cell_type": "code",
   "execution_count": 12,
   "id": "ba740c85-31de-4134-a075-76eddc249c8a",
   "metadata": {},
   "outputs": [
    {
     "data": {
      "text/plain": [
       "1.0"
      ]
     },
     "execution_count": 12,
     "metadata": {},
     "output_type": "execute_result"
    }
   ],
   "source": [
    "com = 1 + 3j\n",
    "com.real"
   ]
  },
  {
   "cell_type": "code",
   "execution_count": 13,
   "id": "6732af89-3edc-4420-a8a1-c2094db87eb2",
   "metadata": {},
   "outputs": [
    {
     "data": {
      "text/plain": [
       "3.0"
      ]
     },
     "execution_count": 13,
     "metadata": {},
     "output_type": "execute_result"
    }
   ],
   "source": [
    "com.imag"
   ]
  },
  {
   "cell_type": "markdown",
   "id": "927a0efe-41e3-42ac-9640-ed90b1555410",
   "metadata": {},
   "source": [
    "Q7. What is the correct way to declare a variable named age and assign the value 25 to it?\n"
   ]
  },
  {
   "cell_type": "code",
   "execution_count": 14,
   "id": "589f6e1c-612e-4d4d-a204-59adc217f16a",
   "metadata": {},
   "outputs": [],
   "source": [
    "age = 25\n",
    "\n",
    "# variablename = value\n"
   ]
  },
  {
   "cell_type": "markdown",
   "id": "0392acb0-2188-43e0-a088-8ee8b0cc2e48",
   "metadata": {},
   "source": [
    "Q8. Declare a variable named price and assign the value 9.99 to it. What data type does this variable \n",
    "belong to?"
   ]
  },
  {
   "cell_type": "code",
   "execution_count": 16,
   "id": "11baaa0f-509b-4f03-9215-2bb1c73f80cd",
   "metadata": {},
   "outputs": [
    {
     "data": {
      "text/plain": [
       "float"
      ]
     },
     "execution_count": 16,
     "metadata": {},
     "output_type": "execute_result"
    }
   ],
   "source": [
    "price = 9.99\n",
    "type(price)"
   ]
  },
  {
   "cell_type": "markdown",
   "id": "77c65665-895f-4d5e-8c4f-67cb18fd2c7e",
   "metadata": {},
   "source": [
    "Q9. Create a variable named name and assign your full name to it as a string. How would you print the \n",
    "value of this variable?"
   ]
  },
  {
   "cell_type": "code",
   "execution_count": 20,
   "id": "9961f875-2efd-43ad-a50f-979ce444791d",
   "metadata": {},
   "outputs": [],
   "source": [
    "name = \"Shivam Kumar\""
   ]
  },
  {
   "cell_type": "code",
   "execution_count": 21,
   "id": "38f87411-9548-4e3f-9e17-2f647ed41a43",
   "metadata": {},
   "outputs": [
    {
     "data": {
      "text/plain": [
       "'Shivam Kumar'"
      ]
     },
     "execution_count": 21,
     "metadata": {},
     "output_type": "execute_result"
    }
   ],
   "source": [
    "name"
   ]
  },
  {
   "cell_type": "code",
   "execution_count": 22,
   "id": "6d07fa3c-442b-48f0-aeac-0533b80627f0",
   "metadata": {},
   "outputs": [
    {
     "data": {
      "text/plain": [
       "'Shivam Kumar'"
      ]
     },
     "execution_count": 22,
     "metadata": {},
     "output_type": "execute_result"
    }
   ],
   "source": [
    "name[:]"
   ]
  },
  {
   "cell_type": "code",
   "execution_count": 23,
   "id": "cd9b00fa-52bc-44ca-b364-b0cda7df4b22",
   "metadata": {},
   "outputs": [
    {
     "data": {
      "text/plain": [
       "'Shivam Kumar'"
      ]
     },
     "execution_count": 23,
     "metadata": {},
     "output_type": "execute_result"
    }
   ],
   "source": [
    "name[0:]"
   ]
  },
  {
   "cell_type": "code",
   "execution_count": 24,
   "id": "7e584782-74bf-4396-91e2-4e6f1da96486",
   "metadata": {},
   "outputs": [
    {
     "data": {
      "text/plain": [
       "'Shivam Kumar'"
      ]
     },
     "execution_count": 24,
     "metadata": {},
     "output_type": "execute_result"
    }
   ],
   "source": [
    "name[:13]"
   ]
  },
  {
   "cell_type": "markdown",
   "id": "63110a99-a17c-4dd1-a314-314fbaa54032",
   "metadata": {},
   "source": [
    "Q10. Given the string \"Hello, World!\", extract the substring \"World\".\n"
   ]
  },
  {
   "cell_type": "code",
   "execution_count": 26,
   "id": "317fef16-387c-49cc-80fe-f5fc35d4980c",
   "metadata": {},
   "outputs": [
    {
     "data": {
      "text/plain": [
       "'World'"
      ]
     },
     "execution_count": 26,
     "metadata": {},
     "output_type": "execute_result"
    }
   ],
   "source": [
    "q10 = \"Hello, World!\"\n",
    "q10[7:12]"
   ]
  },
  {
   "cell_type": "markdown",
   "id": "5be9cba4-75ea-457b-a93a-4b1b5903ecc2",
   "metadata": {},
   "source": [
    "11. Create a variable named \"is_student\" and assign it a boolean value indicating whether you are \n",
    "currently a student or not."
   ]
  },
  {
   "cell_type": "code",
   "execution_count": 36,
   "id": "9dfc10c5-ddd5-4602-894f-18021c5b50c8",
   "metadata": {},
   "outputs": [
    {
     "name": "stdout",
     "output_type": "stream",
     "text": [
      "Current student\n"
     ]
    }
   ],
   "source": [
    "is_student  = True\n",
    "\n",
    "if is_student:\n",
    "    print(\"Current student\")\n",
    "else :\n",
    "    print(\"not a Current student\")"
   ]
  }
 ],
 "metadata": {
  "kernelspec": {
   "display_name": "Python 3 (ipykernel)",
   "language": "python",
   "name": "python3"
  },
  "language_info": {
   "codemirror_mode": {
    "name": "ipython",
    "version": 3
   },
   "file_extension": ".py",
   "mimetype": "text/x-python",
   "name": "python",
   "nbconvert_exporter": "python",
   "pygments_lexer": "ipython3",
   "version": "3.10.8"
  }
 },
 "nbformat": 4,
 "nbformat_minor": 5
}
