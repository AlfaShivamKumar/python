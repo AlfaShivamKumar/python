{
 "cells": [
  {
   "cell_type": "markdown",
   "id": "3ffc360d",
   "metadata": {},
   "source": [
    "# 05 Feb_Assq"
   ]
  },
  {
   "cell_type": "markdown",
   "id": "5f7a3f21",
   "metadata": {},
   "source": [
    "Q1. Explain Class and Object with respect to Object-Oriented Programming. Give a suitable example."
   ]
  },
  {
   "cell_type": "raw",
   "id": "ab280aa7",
   "metadata": {},
   "source": [
    "Ans. Class is a blueprint of object. it give a structure case for the methods and variable which a be aquired by its instance.\n",
    "\n",
    "Object is an instace of a class, it use all the method and variable of the class.\n",
    "\n",
    "for example A car is class, storing method like accelerator, gear, strearing wheel etc. and object can be any car model name like tyota fortuner, Thar, harrier, scorpio, legender, etc"
   ]
  },
  {
   "cell_type": "markdown",
   "id": "2e82861f",
   "metadata": {},
   "source": [
    "Q2. Name the four pillars of OOPs.\n"
   ]
  },
  {
   "cell_type": "raw",
   "id": "d95caec0",
   "metadata": {},
   "source": [
    "The four pillors are :- \n",
    "\n",
    "Abstraction - this is hiding the implementation details and show only needed data to user\n",
    "\n",
    "Encapsulation: the technique of bundling the data and the methods that operate on the data together in a single unit called an object.\n",
    "\n",
    "Inheritance - Reuse of code by importing one class to another is known as inheritance.\n",
    "\n",
    "Polymorphism -  the ability of an object to behave differently depending on the context or the type of the object."
   ]
  },
  {
   "cell_type": "markdown",
   "id": "11af20b3",
   "metadata": {},
   "source": [
    "Q3. Explain why the __init__() function is used. Give a suitable example."
   ]
  },
  {
   "cell_type": "raw",
   "id": "b6a730cb",
   "metadata": {},
   "source": [
    "init function is used to define a constuctor of a class. by defining the init function data is associated with can be passed to a object. and it asassociate the data with the object not the class.\n",
    "\n",
    "for example:\n",
    "class car:\n",
    "def __init__(self, manufacturer, model):   # constructor of car class\n",
    "self.manufacturer = manufacturer \n",
    "self.model = model\n",
    "\n",
    "car1 = car(\"mahindra\", \"XUV700\") # for object car1 value are passed\n",
    "car2 = car(\"Tata\",\"Safari\")      # for object car2 value is passed"
   ]
  },
  {
   "cell_type": "markdown",
   "id": "e3c86c35",
   "metadata": {},
   "source": [
    "Q4. Why self is used in OOPs?"
   ]
  },
  {
   "cell_type": "raw",
   "id": "6069b175",
   "metadata": {},
   "source": [
    "Self is used to make complier understand that variable is being called for the object of a class. By self.var_name the variable becomes a instance variable.\n",
    "if self is not declared the the variable become a class variable\n"
   ]
  },
  {
   "cell_type": "markdown",
   "id": "fc286cf8",
   "metadata": {},
   "source": [
    "Q5. What is inheritance? Give an example for each type of inheritance."
   ]
  },
  {
   "cell_type": "raw",
   "id": "f915ba6c",
   "metadata": {},
   "source": [
    "Inheritance - Reuse of code by importing one class to another is known as inheritance.\n",
    "\n",
    "Inheritance  is achieved by entering public/ protected class in a paranthsis() after the child class. eg : def car(vehice):\n",
    "\n",
    "\n",
    "The type of inheritance are :-\n",
    "1) Multi level inheritance - in this the the parent class is inherited by its immediate next  child class and that the class is inherited by its cild class and so on.\n",
    "for example - def veh():  # class 1\n",
    "             \n",
    "              def car(veh):  3 class 02\n",
    "              \n",
    "              def model(car): #class 03\n",
    "\n",
    "2) Multi inheritance :- inheritance of multiple parent to a single child class.\n",
    "for example - def veh():  # class 1\n",
    "             \n",
    "              def car():  3 class 02\n",
    "              \n",
    "              def model(veh, car): #class 03\n",
    "\n",
    "3) Hybrid inheritance :- it is mixture of both multi level and multi inheritance.\n",
    "\n",
    "for example - def veh():  # class 01\n",
    "             \n",
    "              def car():  # class 02\n",
    "              \n",
    "              def model(veh, car): #class 03\n",
    "              \n",
    "              def version(model): #class 04\n",
    "              \n",
    "Single inheritance enables a derived class to inherit properties from a single parent class, thus enabling code reusability and the addition of new features to existing code.\n",
    "for example - def veh():  # class 01\n",
    "             \n",
    "              def car(veh):  # class 02\n"
   ]
  },
  {
   "cell_type": "markdown",
   "id": "80709c07",
   "metadata": {},
   "source": []
  },
  {
   "cell_type": "raw",
   "id": "332d529e",
   "metadata": {},
   "source": []
  }
 ],
 "metadata": {
  "kernelspec": {
   "display_name": "Python 3 (ipykernel)",
   "language": "python",
   "name": "python3"
  },
  "language_info": {
   "codemirror_mode": {
    "name": "ipython",
    "version": 3
   },
   "file_extension": ".py",
   "mimetype": "text/x-python",
   "name": "python",
   "nbconvert_exporter": "python",
   "pygments_lexer": "ipython3",
   "version": "3.9.13"
  }
 },
 "nbformat": 4,
 "nbformat_minor": 5
}
